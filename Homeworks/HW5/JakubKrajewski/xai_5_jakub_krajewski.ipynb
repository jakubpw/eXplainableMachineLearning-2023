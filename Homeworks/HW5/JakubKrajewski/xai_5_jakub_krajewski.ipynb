{
  "nbformat": 4,
  "nbformat_minor": 0,
  "metadata": {
    "colab": {
      "provenance": []
    },
    "kernelspec": {
      "name": "python3",
      "display_name": "Python 3"
    },
    "language_info": {
      "name": "python"
    }
  },
  "cells": [
    {
      "cell_type": "markdown",
      "source": [
        "# Comments"
      ],
      "metadata": {
        "id": "k5943DJPLYCD"
      }
    },
    {
      "cell_type": "markdown",
      "source": [
        "## Part 2"
      ],
      "metadata": {
        "id": "YKX_VJgPLbvD"
      }
    },
    {
      "cell_type": "markdown",
      "source": [
        "We can see that variable importances are not the same across the models. As a general pattern, feature **cp** is the most important, however for RidgeClassifier it's very similar to **cp**. Interestingly, importances differ also between models from the same class, but with different hyperparameters (number of estimators in the forest model). In general, different variable importances mean that models attend to different parts of the dataset. This result is understandable, because particular models can focus on various patterns in the dataset. \n"
      ],
      "metadata": {
        "id": "w9t7LB13W0sq"
      }
    },
    {
      "cell_type": "code",
      "source": [
        "plot_p_var_imp(grad_explainer)"
      ],
      "metadata": {
        "colab": {
          "base_uri": "https://localhost:8080/",
          "height": 467
        },
        "id": "pmotq8jeWJX1",
        "outputId": "b2b51e55-64f2-49fa-b751-638ad48c8e17"
      },
      "execution_count": 58,
      "outputs": [
        {
          "output_type": "display_data",
          "data": {
            "text/html": [
              "<html>\n",
              "<head><meta charset=\"utf-8\" /></head>\n",
              "<body>\n",
              "    <div>            <script src=\"https://cdnjs.cloudflare.com/ajax/libs/mathjax/2.7.5/MathJax.js?config=TeX-AMS-MML_SVG\"></script><script type=\"text/javascript\">if (window.MathJax) {MathJax.Hub.Config({SVG: {font: \"STIX-Web\"}});}</script>                <script type=\"text/javascript\">window.PlotlyConfig = {MathJaxConfig: 'local'};</script>\n",
              "        <script src=\"https://cdn.plot.ly/plotly-2.8.3.min.js\"></script>                <div id=\"b28b580c-5063-4641-bc21-56159862bfe9\" class=\"plotly-graph-div\" style=\"height:450px; width:600px;\"></div>            <script type=\"text/javascript\">                                    window.PLOTLYENV=window.PLOTLYENV || {};                                    if (document.getElementById(\"b28b580c-5063-4641-bc21-56159862bfe9\")) {                    Plotly.newPlot(                        \"b28b580c-5063-4641-bc21-56159862bfe9\",                        [{\"base\":0.12358133669609081,\"hoverinfo\":\"text\",\"hoverlabel\":{\"bgcolor\":\"rgba(0,0,0,0.8)\"},\"hovertext\":[\"Model: GradientBoostingClassifier loss after<br>variable: cp is permuted: 0.167<br>Drop-out loss change: +0.044\",\"Model: GradientBoostingClassifier loss after<br>variable: caa is permuted: 0.164<br>Drop-out loss change: +0.04\",\"Model: GradientBoostingClassifier loss after<br>variable: oldpeak is permuted: 0.144<br>Drop-out loss change: +0.021\",\"Model: GradientBoostingClassifier loss after<br>variable: sex is permuted: 0.143<br>Drop-out loss change: +0.02\",\"Model: GradientBoostingClassifier loss after<br>variable: thall is permuted: 0.137<br>Drop-out loss change: +0.014\",\"Model: GradientBoostingClassifier loss after<br>variable: thalachh is permuted: 0.13<br>Drop-out loss change: +0.006\",\"Model: GradientBoostingClassifier loss after<br>variable: exng is permuted: 0.128<br>Drop-out loss change: +0.005\",\"Model: GradientBoostingClassifier loss after<br>variable: age is permuted: 0.128<br>Drop-out loss change: +0.004\",\"Model: GradientBoostingClassifier loss after<br>variable: fbs is permuted: 0.124<br>Drop-out loss change: +0.0\",\"Model: GradientBoostingClassifier loss after<br>variable: slp is permuted: 0.122<br>Drop-out loss change: -0.001\"],\"marker\":{\"color\":\"#46bac2\"},\"orientation\":\"h\",\"showlegend\":false,\"text\":[\"+0.044\",\"+0.04\",\"+0.021\",\"+0.02\",\"+0.014\",\"+0.006\",\"+0.005\",\"+0.004\",\"+0.0\",\"0.001\"],\"textposition\":\"outside\",\"x\":[0.04388398486759143,0.04010088272383355,0.020765027322404345,0.01950399327448507,0.013913408995376214,0.006094997898276583,0.004833963850357281,0.004371584699453507,0.0004623791509037467,-0.0012610340479192739],\"y\":[\"cp\",\"caa\",\"oldpeak\",\"sex\",\"thall\",\"thalachh\",\"exng\",\"age\",\"fbs\",\"slp\"],\"type\":\"bar\",\"xaxis\":\"x\",\"yaxis\":\"y\"}],                        {\"template\":{\"data\":{\"scatter\":[{\"type\":\"scatter\"}]}},\"xaxis\":{\"anchor\":\"y\",\"domain\":[0.0,1.0],\"type\":\"linear\",\"gridwidth\":2,\"zeroline\":false,\"automargin\":true,\"ticks\":\"outside\",\"tickcolor\":\"white\",\"ticklen\":3,\"fixedrange\":true,\"range\":[0.09413408995376214,0.1770302648171501]},\"yaxis\":{\"anchor\":\"x\",\"domain\":[0.0,1.0],\"type\":\"category\",\"autorange\":\"reversed\",\"gridwidth\":2,\"automargin\":true,\"ticks\":\"outside\",\"tickcolor\":\"white\",\"ticklen\":10,\"fixedrange\":true},\"annotations\":[{\"font\":{\"size\":16},\"showarrow\":false,\"text\":\"GradientBoostingClassifier\",\"x\":0.5,\"xanchor\":\"center\",\"xref\":\"paper\",\"y\":1.0,\"yanchor\":\"bottom\",\"yref\":\"paper\"},{\"font\":{\"size\":16},\"showarrow\":false,\"text\":\"drop-out loss\",\"x\":0.5,\"xanchor\":\"center\",\"xref\":\"paper\",\"y\":0,\"yanchor\":\"top\",\"yref\":\"paper\",\"yshift\":-30}],\"shapes\":[{\"line\":{\"color\":\"#371ea3\",\"dash\":\"dot\",\"width\":1.5},\"type\":\"line\",\"x0\":0.12358133669609081,\"x1\":0.12358133669609081,\"xref\":\"x\",\"y0\":-1,\"y1\":10,\"yref\":\"y\"}],\"title\":{\"text\":\"Variable Importance\",\"x\":0.15},\"font\":{\"color\":\"#371ea3\"},\"margin\":{\"t\":78,\"b\":71,\"r\":30},\"height\":450,\"autosize\":false,\"width\":600},                        {\"responsive\": true}                    ).then(function(){\n",
              "                            \n",
              "var gd = document.getElementById('b28b580c-5063-4641-bc21-56159862bfe9');\n",
              "var x = new MutationObserver(function (mutations, observer) {{\n",
              "        var display = window.getComputedStyle(gd).display;\n",
              "        if (!display || display === 'none') {{\n",
              "            console.log([gd, 'removed!']);\n",
              "            Plotly.purge(gd);\n",
              "            observer.disconnect();\n",
              "        }}\n",
              "}});\n",
              "\n",
              "// Listen for the removal of the full notebook cells\n",
              "var notebookContainer = gd.closest('#notebook-container');\n",
              "if (notebookContainer) {{\n",
              "    x.observe(notebookContainer, {childList: true});\n",
              "}}\n",
              "\n",
              "// Listen for the clearing of the current output cell\n",
              "var outputEl = gd.closest('.output');\n",
              "if (outputEl) {{\n",
              "    x.observe(outputEl, {childList: true});\n",
              "}}\n",
              "\n",
              "                        })                };                            </script>        </div>\n",
              "</body>\n",
              "</html>"
            ]
          },
          "metadata": {}
        }
      ]
    },
    {
      "cell_type": "code",
      "source": [
        "plot_p_var_imp(forest_explainer)"
      ],
      "metadata": {
        "colab": {
          "base_uri": "https://localhost:8080/",
          "height": 467
        },
        "id": "p1Ym_YDGWVp3",
        "outputId": "2f242d10-7ff3-44a3-d788-37278bb8cc56"
      },
      "execution_count": 59,
      "outputs": [
        {
          "output_type": "display_data",
          "data": {
            "text/html": [
              "<html>\n",
              "<head><meta charset=\"utf-8\" /></head>\n",
              "<body>\n",
              "    <div>            <script src=\"https://cdnjs.cloudflare.com/ajax/libs/mathjax/2.7.5/MathJax.js?config=TeX-AMS-MML_SVG\"></script><script type=\"text/javascript\">if (window.MathJax) {MathJax.Hub.Config({SVG: {font: \"STIX-Web\"}});}</script>                <script type=\"text/javascript\">window.PlotlyConfig = {MathJaxConfig: 'local'};</script>\n",
              "        <script src=\"https://cdn.plot.ly/plotly-2.8.3.min.js\"></script>                <div id=\"4595704a-0fa9-4e8b-8400-8ff078b1e760\" class=\"plotly-graph-div\" style=\"height:450px; width:600px;\"></div>            <script type=\"text/javascript\">                                    window.PLOTLYENV=window.PLOTLYENV || {};                                    if (document.getElementById(\"4595704a-0fa9-4e8b-8400-8ff078b1e760\")) {                    Plotly.newPlot(                        \"4595704a-0fa9-4e8b-8400-8ff078b1e760\",                        [{\"base\":0.08722152164775121,\"hoverinfo\":\"text\",\"hoverlabel\":{\"bgcolor\":\"rgba(0,0,0,0.8)\"},\"hovertext\":[\"Model: RandomForestClassifier loss after<br>variable: cp is permuted: 0.136<br>Drop-out loss change: +0.049\",\"Model: RandomForestClassifier loss after<br>variable: caa is permuted: 0.13<br>Drop-out loss change: +0.042\",\"Model: RandomForestClassifier loss after<br>variable: exng is permuted: 0.108<br>Drop-out loss change: +0.021\",\"Model: RandomForestClassifier loss after<br>variable: sex is permuted: 0.104<br>Drop-out loss change: +0.017\",\"Model: RandomForestClassifier loss after<br>variable: thall is permuted: 0.103<br>Drop-out loss change: +0.016\",\"Model: RandomForestClassifier loss after<br>variable: age is permuted: 0.103<br>Drop-out loss change: +0.015\",\"Model: RandomForestClassifier loss after<br>variable: thalachh is permuted: 0.099<br>Drop-out loss change: +0.012\",\"Model: RandomForestClassifier loss after<br>variable: slp is permuted: 0.098<br>Drop-out loss change: +0.01\",\"Model: RandomForestClassifier loss after<br>variable: oldpeak is permuted: 0.096<br>Drop-out loss change: +0.008\",\"Model: RandomForestClassifier loss after<br>variable: fbs is permuted: 0.089<br>Drop-out loss change: +0.002\"],\"marker\":{\"color\":\"#46bac2\"},\"orientation\":\"h\",\"showlegend\":false,\"text\":[\"+0.049\",\"+0.042\",\"+0.021\",\"+0.017\",\"+0.016\",\"+0.015\",\"+0.012\",\"+0.01\",\"+0.008\",\"+0.002\"],\"textposition\":\"outside\",\"x\":[0.04897015552753253,0.04241277847835223,0.021248423707440067,0.017023959646910433,0.016225304749894878,0.015426649852879365,0.011559478772593473,0.010445565363598114,0.008406893652795247,0.0017023959646910308],\"y\":[\"cp\",\"caa\",\"exng\",\"sex\",\"thall\",\"age\",\"thalachh\",\"slp\",\"oldpeak\",\"fbs\"],\"type\":\"bar\",\"xaxis\":\"x\",\"yaxis\":\"y\"}],                        {\"template\":{\"data\":{\"scatter\":[{\"type\":\"scatter\"}]}},\"xaxis\":{\"anchor\":\"y\",\"domain\":[0.0,1.0],\"type\":\"linear\",\"gridwidth\":2,\"zeroline\":false,\"automargin\":true,\"ticks\":\"outside\",\"tickcolor\":\"white\",\"ticklen\":3,\"fixedrange\":true,\"range\":[0.07144073139974778,0.14463745271122322]},\"yaxis\":{\"anchor\":\"x\",\"domain\":[0.0,1.0],\"type\":\"category\",\"autorange\":\"reversed\",\"gridwidth\":2,\"automargin\":true,\"ticks\":\"outside\",\"tickcolor\":\"white\",\"ticklen\":10,\"fixedrange\":true},\"annotations\":[{\"font\":{\"size\":16},\"showarrow\":false,\"text\":\"RandomForestClassifier\",\"x\":0.5,\"xanchor\":\"center\",\"xref\":\"paper\",\"y\":1.0,\"yanchor\":\"bottom\",\"yref\":\"paper\"},{\"font\":{\"size\":16},\"showarrow\":false,\"text\":\"drop-out loss\",\"x\":0.5,\"xanchor\":\"center\",\"xref\":\"paper\",\"y\":0,\"yanchor\":\"top\",\"yref\":\"paper\",\"yshift\":-30}],\"shapes\":[{\"line\":{\"color\":\"#371ea3\",\"dash\":\"dot\",\"width\":1.5},\"type\":\"line\",\"x0\":0.08722152164775121,\"x1\":0.08722152164775121,\"xref\":\"x\",\"y0\":-1,\"y1\":10,\"yref\":\"y\"}],\"title\":{\"text\":\"Variable Importance\",\"x\":0.15},\"font\":{\"color\":\"#371ea3\"},\"margin\":{\"t\":78,\"b\":71,\"r\":30},\"height\":450,\"autosize\":false,\"width\":600},                        {\"responsive\": true}                    ).then(function(){\n",
              "                            \n",
              "var gd = document.getElementById('4595704a-0fa9-4e8b-8400-8ff078b1e760');\n",
              "var x = new MutationObserver(function (mutations, observer) {{\n",
              "        var display = window.getComputedStyle(gd).display;\n",
              "        if (!display || display === 'none') {{\n",
              "            console.log([gd, 'removed!']);\n",
              "            Plotly.purge(gd);\n",
              "            observer.disconnect();\n",
              "        }}\n",
              "}});\n",
              "\n",
              "// Listen for the removal of the full notebook cells\n",
              "var notebookContainer = gd.closest('#notebook-container');\n",
              "if (notebookContainer) {{\n",
              "    x.observe(notebookContainer, {childList: true});\n",
              "}}\n",
              "\n",
              "// Listen for the clearing of the current output cell\n",
              "var outputEl = gd.closest('.output');\n",
              "if (outputEl) {{\n",
              "    x.observe(outputEl, {childList: true});\n",
              "}}\n",
              "\n",
              "                        })                };                            </script>        </div>\n",
              "</body>\n",
              "</html>"
            ]
          },
          "metadata": {}
        }
      ]
    },
    {
      "cell_type": "code",
      "source": [
        "plot_p_var_imp(forest_2_explainer)"
      ],
      "metadata": {
        "colab": {
          "base_uri": "https://localhost:8080/",
          "height": 467
        },
        "id": "rYQWDUYpWesH",
        "outputId": "c6f072ef-2ad5-442f-da90-bcf96d2913b0"
      },
      "execution_count": 60,
      "outputs": [
        {
          "output_type": "display_data",
          "data": {
            "text/html": [
              "<html>\n",
              "<head><meta charset=\"utf-8\" /></head>\n",
              "<body>\n",
              "    <div>            <script src=\"https://cdnjs.cloudflare.com/ajax/libs/mathjax/2.7.5/MathJax.js?config=TeX-AMS-MML_SVG\"></script><script type=\"text/javascript\">if (window.MathJax) {MathJax.Hub.Config({SVG: {font: \"STIX-Web\"}});}</script>                <script type=\"text/javascript\">window.PlotlyConfig = {MathJaxConfig: 'local'};</script>\n",
              "        <script src=\"https://cdn.plot.ly/plotly-2.8.3.min.js\"></script>                <div id=\"cece4081-23a4-4b6d-87ed-be1bc9c0b6ee\" class=\"plotly-graph-div\" style=\"height:450px; width:600px;\"></div>            <script type=\"text/javascript\">                                    window.PLOTLYENV=window.PLOTLYENV || {};                                    if (document.getElementById(\"cece4081-23a4-4b6d-87ed-be1bc9c0b6ee\")) {                    Plotly.newPlot(                        \"cece4081-23a4-4b6d-87ed-be1bc9c0b6ee\",                        [{\"base\":0.09289617486338797,\"hoverinfo\":\"text\",\"hoverlabel\":{\"bgcolor\":\"rgba(0,0,0,0.8)\"},\"hovertext\":[\"Model: RandomForestClassifier loss after<br>variable: cp is permuted: 0.144<br>Drop-out loss change: +0.051\",\"Model: RandomForestClassifier loss after<br>variable: sex is permuted: 0.122<br>Drop-out loss change: +0.029\",\"Model: RandomForestClassifier loss after<br>variable: thall is permuted: 0.119<br>Drop-out loss change: +0.026\",\"Model: RandomForestClassifier loss after<br>variable: caa is permuted: 0.111<br>Drop-out loss change: +0.018\",\"Model: RandomForestClassifier loss after<br>variable: thalachh is permuted: 0.11<br>Drop-out loss change: +0.017\",\"Model: RandomForestClassifier loss after<br>variable: slp is permuted: 0.105<br>Drop-out loss change: +0.012\",\"Model: RandomForestClassifier loss after<br>variable: age is permuted: 0.102<br>Drop-out loss change: +0.009\",\"Model: RandomForestClassifier loss after<br>variable: exng is permuted: 0.101<br>Drop-out loss change: +0.008\",\"Model: RandomForestClassifier loss after<br>variable: oldpeak is permuted: 0.099<br>Drop-out loss change: +0.006\",\"Model: RandomForestClassifier loss after<br>variable: fbs is permuted: 0.094<br>Drop-out loss change: +0.001\"],\"marker\":{\"color\":\"#46bac2\"},\"orientation\":\"h\",\"showlegend\":false,\"text\":[\"+0.051\",\"+0.029\",\"+0.026\",\"+0.018\",\"+0.017\",\"+0.012\",\"+0.009\",\"+0.008\",\"+0.006\",\"+0.001\"],\"textposition\":\"outside\",\"x\":[0.05060949978982768,0.02925598991172762,0.025935266918873517,0.01771752837326608,0.016750735603194622,0.012000840689365314,0.008638083228247176,0.007734342160571672,0.00630517023959648,0.0014712063892391852],\"y\":[\"cp\",\"sex\",\"thall\",\"caa\",\"thalachh\",\"slp\",\"age\",\"exng\",\"oldpeak\",\"fbs\"],\"type\":\"bar\",\"xaxis\":\"x\",\"yaxis\":\"y\"}],                        {\"template\":{\"data\":{\"scatter\":[{\"type\":\"scatter\"}]}},\"xaxis\":{\"anchor\":\"y\",\"domain\":[0.0,1.0],\"type\":\"linear\",\"gridwidth\":2,\"zeroline\":false,\"automargin\":true,\"ticks\":\"outside\",\"tickcolor\":\"white\",\"ticklen\":3,\"fixedrange\":true,\"range\":[0.07309899117276168,0.1526891551071879]},\"yaxis\":{\"anchor\":\"x\",\"domain\":[0.0,1.0],\"type\":\"category\",\"autorange\":\"reversed\",\"gridwidth\":2,\"automargin\":true,\"ticks\":\"outside\",\"tickcolor\":\"white\",\"ticklen\":10,\"fixedrange\":true},\"annotations\":[{\"font\":{\"size\":16},\"showarrow\":false,\"text\":\"RandomForestClassifier\",\"x\":0.5,\"xanchor\":\"center\",\"xref\":\"paper\",\"y\":1.0,\"yanchor\":\"bottom\",\"yref\":\"paper\"},{\"font\":{\"size\":16},\"showarrow\":false,\"text\":\"drop-out loss\",\"x\":0.5,\"xanchor\":\"center\",\"xref\":\"paper\",\"y\":0,\"yanchor\":\"top\",\"yref\":\"paper\",\"yshift\":-30}],\"shapes\":[{\"line\":{\"color\":\"#371ea3\",\"dash\":\"dot\",\"width\":1.5},\"type\":\"line\",\"x0\":0.09289617486338797,\"x1\":0.09289617486338797,\"xref\":\"x\",\"y0\":-1,\"y1\":10,\"yref\":\"y\"}],\"title\":{\"text\":\"Variable Importance\",\"x\":0.15},\"font\":{\"color\":\"#371ea3\"},\"margin\":{\"t\":78,\"b\":71,\"r\":30},\"height\":450,\"autosize\":false,\"width\":600},                        {\"responsive\": true}                    ).then(function(){\n",
              "                            \n",
              "var gd = document.getElementById('cece4081-23a4-4b6d-87ed-be1bc9c0b6ee');\n",
              "var x = new MutationObserver(function (mutations, observer) {{\n",
              "        var display = window.getComputedStyle(gd).display;\n",
              "        if (!display || display === 'none') {{\n",
              "            console.log([gd, 'removed!']);\n",
              "            Plotly.purge(gd);\n",
              "            observer.disconnect();\n",
              "        }}\n",
              "}});\n",
              "\n",
              "// Listen for the removal of the full notebook cells\n",
              "var notebookContainer = gd.closest('#notebook-container');\n",
              "if (notebookContainer) {{\n",
              "    x.observe(notebookContainer, {childList: true});\n",
              "}}\n",
              "\n",
              "// Listen for the clearing of the current output cell\n",
              "var outputEl = gd.closest('.output');\n",
              "if (outputEl) {{\n",
              "    x.observe(outputEl, {childList: true});\n",
              "}}\n",
              "\n",
              "                        })                };                            </script>        </div>\n",
              "</body>\n",
              "</html>"
            ]
          },
          "metadata": {}
        }
      ]
    },
    {
      "cell_type": "code",
      "source": [
        "plot_p_var_imp(lr_explainer)"
      ],
      "metadata": {
        "colab": {
          "base_uri": "https://localhost:8080/",
          "height": 467
        },
        "id": "N8b1WM07WjE0",
        "outputId": "e000d57b-12b6-492b-d470-0b288a1d4b52"
      },
      "execution_count": 61,
      "outputs": [
        {
          "output_type": "display_data",
          "data": {
            "text/html": [
              "<html>\n",
              "<head><meta charset=\"utf-8\" /></head>\n",
              "<body>\n",
              "    <div>            <script src=\"https://cdnjs.cloudflare.com/ajax/libs/mathjax/2.7.5/MathJax.js?config=TeX-AMS-MML_SVG\"></script><script type=\"text/javascript\">if (window.MathJax) {MathJax.Hub.Config({SVG: {font: \"STIX-Web\"}});}</script>                <script type=\"text/javascript\">window.PlotlyConfig = {MathJaxConfig: 'local'};</script>\n",
              "        <script src=\"https://cdn.plot.ly/plotly-2.8.3.min.js\"></script>                <div id=\"3f99d269-d77c-4ee9-b8d3-e193ad046e9a\" class=\"plotly-graph-div\" style=\"height:450px; width:600px;\"></div>            <script type=\"text/javascript\">                                    window.PLOTLYENV=window.PLOTLYENV || {};                                    if (document.getElementById(\"3f99d269-d77c-4ee9-b8d3-e193ad046e9a\")) {                    Plotly.newPlot(                        \"3f99d269-d77c-4ee9-b8d3-e193ad046e9a\",                        [{\"base\":0.14459857082807903,\"hoverinfo\":\"text\",\"hoverlabel\":{\"bgcolor\":\"rgba(0,0,0,0.8)\"},\"hovertext\":[\"Model: RidgeClassifier loss after<br>variable: cp is permuted: 0.192<br>Drop-out loss change: +0.047\",\"Model: RidgeClassifier loss after<br>variable: caa is permuted: 0.191<br>Drop-out loss change: +0.046\",\"Model: RidgeClassifier loss after<br>variable: sex is permuted: 0.184<br>Drop-out loss change: +0.039\",\"Model: RidgeClassifier loss after<br>variable: thalachh is permuted: 0.183<br>Drop-out loss change: +0.038\",\"Model: RidgeClassifier loss after<br>variable: thall is permuted: 0.165<br>Drop-out loss change: +0.02\",\"Model: RidgeClassifier loss after<br>variable: oldpeak is permuted: 0.164<br>Drop-out loss change: +0.02\",\"Model: RidgeClassifier loss after<br>variable: trtbps is permuted: 0.155<br>Drop-out loss change: +0.011\",\"Model: RidgeClassifier loss after<br>variable: chol is permuted: 0.153<br>Drop-out loss change: +0.008\",\"Model: RidgeClassifier loss after<br>variable: slp is permuted: 0.153<br>Drop-out loss change: +0.008\",\"Model: RidgeClassifier loss after<br>variable: age is permuted: 0.149<br>Drop-out loss change: +0.004\"],\"marker\":{\"color\":\"#46bac2\"},\"orientation\":\"h\",\"showlegend\":false,\"text\":[\"+0.047\",\"+0.046\",\"+0.039\",\"+0.038\",\"+0.02\",\"+0.02\",\"+0.011\",\"+0.008\",\"+0.008\",\"+0.004\"],\"textposition\":\"outside\",\"x\":[0.04707860445565365,0.046385035729297946,0.03930222782681797,0.03848255569567041,0.020344682639764577,0.01967213114754099,0.010655737704918095,0.008196721311475474,0.008196721311475474,0.004098360655737765],\"y\":[\"cp\",\"caa\",\"sex\",\"thalachh\",\"thall\",\"oldpeak\",\"trtbps\",\"chol\",\"slp\",\"age\"],\"type\":\"bar\",\"xaxis\":\"x\",\"yaxis\":\"y\"}],                        {\"template\":{\"data\":{\"scatter\":[{\"type\":\"scatter\"}]}},\"xaxis\":{\"anchor\":\"y\",\"domain\":[0.0,1.0],\"type\":\"linear\",\"gridwidth\":2,\"zeroline\":false,\"automargin\":true,\"ticks\":\"outside\",\"tickcolor\":\"white\",\"ticklen\":3,\"fixedrange\":true,\"range\":[0.12644283312316104,0.2001860025220681]},\"yaxis\":{\"anchor\":\"x\",\"domain\":[0.0,1.0],\"type\":\"category\",\"autorange\":\"reversed\",\"gridwidth\":2,\"automargin\":true,\"ticks\":\"outside\",\"tickcolor\":\"white\",\"ticklen\":10,\"fixedrange\":true},\"annotations\":[{\"font\":{\"size\":16},\"showarrow\":false,\"text\":\"RidgeClassifier\",\"x\":0.5,\"xanchor\":\"center\",\"xref\":\"paper\",\"y\":1.0,\"yanchor\":\"bottom\",\"yref\":\"paper\"},{\"font\":{\"size\":16},\"showarrow\":false,\"text\":\"drop-out loss\",\"x\":0.5,\"xanchor\":\"center\",\"xref\":\"paper\",\"y\":0,\"yanchor\":\"top\",\"yref\":\"paper\",\"yshift\":-30}],\"shapes\":[{\"line\":{\"color\":\"#371ea3\",\"dash\":\"dot\",\"width\":1.5},\"type\":\"line\",\"x0\":0.14459857082807903,\"x1\":0.14459857082807903,\"xref\":\"x\",\"y0\":-1,\"y1\":10,\"yref\":\"y\"}],\"title\":{\"text\":\"Variable Importance\",\"x\":0.15},\"font\":{\"color\":\"#371ea3\"},\"margin\":{\"t\":78,\"b\":71,\"r\":30},\"height\":450,\"autosize\":false,\"width\":600},                        {\"responsive\": true}                    ).then(function(){\n",
              "                            \n",
              "var gd = document.getElementById('3f99d269-d77c-4ee9-b8d3-e193ad046e9a');\n",
              "var x = new MutationObserver(function (mutations, observer) {{\n",
              "        var display = window.getComputedStyle(gd).display;\n",
              "        if (!display || display === 'none') {{\n",
              "            console.log([gd, 'removed!']);\n",
              "            Plotly.purge(gd);\n",
              "            observer.disconnect();\n",
              "        }}\n",
              "}});\n",
              "\n",
              "// Listen for the removal of the full notebook cells\n",
              "var notebookContainer = gd.closest('#notebook-container');\n",
              "if (notebookContainer) {{\n",
              "    x.observe(notebookContainer, {childList: true});\n",
              "}}\n",
              "\n",
              "// Listen for the clearing of the current output cell\n",
              "var outputEl = gd.closest('.output');\n",
              "if (outputEl) {{\n",
              "    x.observe(outputEl, {childList: true});\n",
              "}}\n",
              "\n",
              "                        })                };                            </script>        </div>\n",
              "</body>\n",
              "</html>"
            ]
          },
          "metadata": {}
        }
      ]
    },
    {
      "cell_type": "markdown",
      "source": [
        "## Part 3A"
      ],
      "metadata": {
        "id": "I2cTBYJoW4bk"
      }
    },
    {
      "cell_type": "markdown",
      "source": [
        "Even though **cp** is still the most important feature in this comparison, we can see significant differences to the previous approach. We can observe that the feature **thalachh** is now on the second place (more important than **caa**, while previously it was in the group of less important features."
      ],
      "metadata": {
        "id": "0gvXPXmhXFZL"
      }
    },
    {
      "cell_type": "code",
      "source": [
        "plot_var_imp(forest_model)"
      ],
      "metadata": {
        "colab": {
          "base_uri": "https://localhost:8080/",
          "height": 542
        },
        "id": "qORPmCZLZ1n9",
        "outputId": "f1b441b1-87d4-4a2b-dd35-363c29bf75ab"
      },
      "execution_count": 62,
      "outputs": [
        {
          "output_type": "display_data",
          "data": {
            "text/html": [
              "<html>\n",
              "<head><meta charset=\"utf-8\" /></head>\n",
              "<body>\n",
              "    <div>            <script src=\"https://cdnjs.cloudflare.com/ajax/libs/mathjax/2.7.5/MathJax.js?config=TeX-AMS-MML_SVG\"></script><script type=\"text/javascript\">if (window.MathJax) {MathJax.Hub.Config({SVG: {font: \"STIX-Web\"}});}</script>                <script type=\"text/javascript\">window.PlotlyConfig = {MathJaxConfig: 'local'};</script>\n",
              "        <script src=\"https://cdn.plot.ly/plotly-2.8.3.min.js\"></script>                <div id=\"387b57dc-7c88-4eda-a1b8-e0dbce0990ef\" class=\"plotly-graph-div\" style=\"height:525px; width:100%;\"></div>            <script type=\"text/javascript\">                                    window.PLOTLYENV=window.PLOTLYENV || {};                                    if (document.getElementById(\"387b57dc-7c88-4eda-a1b8-e0dbce0990ef\")) {                    Plotly.newPlot(                        \"387b57dc-7c88-4eda-a1b8-e0dbce0990ef\",                        [{\"alignmentgroup\":\"True\",\"hovertemplate\":\"importance=%{x}<br>feature=%{y}<extra></extra>\",\"legendgroup\":\"\",\"marker\":{\"color\":\"#636efa\",\"pattern\":{\"shape\":\"\"}},\"name\":\"\",\"offsetgroup\":\"\",\"orientation\":\"h\",\"showlegend\":false,\"textposition\":\"auto\",\"x\":[0.009129596259635138,0.019136366191196255,0.03780034169849704,0.045269156472470866,0.05515411702538527,0.07689520926538335,0.08122270948874544,0.08434172265906031,0.08494066838415526,0.10085377880965624,0.10790600847198516,0.11249454782185932,0.1848557774519703],\"xaxis\":\"x\",\"y\":[\"fbs\",\"restecg\",\"sex\",\"slp\",\"exng\",\"age\",\"chol\",\"thall\",\"trtbps\",\"oldpeak\",\"caa\",\"thalachh\",\"cp\"],\"yaxis\":\"y\",\"type\":\"bar\"}],                        {\"template\":{\"data\":{\"bar\":[{\"error_x\":{\"color\":\"#2a3f5f\"},\"error_y\":{\"color\":\"#2a3f5f\"},\"marker\":{\"line\":{\"color\":\"#E5ECF6\",\"width\":0.5},\"pattern\":{\"fillmode\":\"overlay\",\"size\":10,\"solidity\":0.2}},\"type\":\"bar\"}],\"barpolar\":[{\"marker\":{\"line\":{\"color\":\"#E5ECF6\",\"width\":0.5},\"pattern\":{\"fillmode\":\"overlay\",\"size\":10,\"solidity\":0.2}},\"type\":\"barpolar\"}],\"carpet\":[{\"aaxis\":{\"endlinecolor\":\"#2a3f5f\",\"gridcolor\":\"white\",\"linecolor\":\"white\",\"minorgridcolor\":\"white\",\"startlinecolor\":\"#2a3f5f\"},\"baxis\":{\"endlinecolor\":\"#2a3f5f\",\"gridcolor\":\"white\",\"linecolor\":\"white\",\"minorgridcolor\":\"white\",\"startlinecolor\":\"#2a3f5f\"},\"type\":\"carpet\"}],\"choropleth\":[{\"colorbar\":{\"outlinewidth\":0,\"ticks\":\"\"},\"type\":\"choropleth\"}],\"contour\":[{\"colorbar\":{\"outlinewidth\":0,\"ticks\":\"\"},\"colorscale\":[[0.0,\"#0d0887\"],[0.1111111111111111,\"#46039f\"],[0.2222222222222222,\"#7201a8\"],[0.3333333333333333,\"#9c179e\"],[0.4444444444444444,\"#bd3786\"],[0.5555555555555556,\"#d8576b\"],[0.6666666666666666,\"#ed7953\"],[0.7777777777777778,\"#fb9f3a\"],[0.8888888888888888,\"#fdca26\"],[1.0,\"#f0f921\"]],\"type\":\"contour\"}],\"contourcarpet\":[{\"colorbar\":{\"outlinewidth\":0,\"ticks\":\"\"},\"type\":\"contourcarpet\"}],\"heatmap\":[{\"colorbar\":{\"outlinewidth\":0,\"ticks\":\"\"},\"colorscale\":[[0.0,\"#0d0887\"],[0.1111111111111111,\"#46039f\"],[0.2222222222222222,\"#7201a8\"],[0.3333333333333333,\"#9c179e\"],[0.4444444444444444,\"#bd3786\"],[0.5555555555555556,\"#d8576b\"],[0.6666666666666666,\"#ed7953\"],[0.7777777777777778,\"#fb9f3a\"],[0.8888888888888888,\"#fdca26\"],[1.0,\"#f0f921\"]],\"type\":\"heatmap\"}],\"heatmapgl\":[{\"colorbar\":{\"outlinewidth\":0,\"ticks\":\"\"},\"colorscale\":[[0.0,\"#0d0887\"],[0.1111111111111111,\"#46039f\"],[0.2222222222222222,\"#7201a8\"],[0.3333333333333333,\"#9c179e\"],[0.4444444444444444,\"#bd3786\"],[0.5555555555555556,\"#d8576b\"],[0.6666666666666666,\"#ed7953\"],[0.7777777777777778,\"#fb9f3a\"],[0.8888888888888888,\"#fdca26\"],[1.0,\"#f0f921\"]],\"type\":\"heatmapgl\"}],\"histogram\":[{\"marker\":{\"pattern\":{\"fillmode\":\"overlay\",\"size\":10,\"solidity\":0.2}},\"type\":\"histogram\"}],\"histogram2d\":[{\"colorbar\":{\"outlinewidth\":0,\"ticks\":\"\"},\"colorscale\":[[0.0,\"#0d0887\"],[0.1111111111111111,\"#46039f\"],[0.2222222222222222,\"#7201a8\"],[0.3333333333333333,\"#9c179e\"],[0.4444444444444444,\"#bd3786\"],[0.5555555555555556,\"#d8576b\"],[0.6666666666666666,\"#ed7953\"],[0.7777777777777778,\"#fb9f3a\"],[0.8888888888888888,\"#fdca26\"],[1.0,\"#f0f921\"]],\"type\":\"histogram2d\"}],\"histogram2dcontour\":[{\"colorbar\":{\"outlinewidth\":0,\"ticks\":\"\"},\"colorscale\":[[0.0,\"#0d0887\"],[0.1111111111111111,\"#46039f\"],[0.2222222222222222,\"#7201a8\"],[0.3333333333333333,\"#9c179e\"],[0.4444444444444444,\"#bd3786\"],[0.5555555555555556,\"#d8576b\"],[0.6666666666666666,\"#ed7953\"],[0.7777777777777778,\"#fb9f3a\"],[0.8888888888888888,\"#fdca26\"],[1.0,\"#f0f921\"]],\"type\":\"histogram2dcontour\"}],\"mesh3d\":[{\"colorbar\":{\"outlinewidth\":0,\"ticks\":\"\"},\"type\":\"mesh3d\"}],\"parcoords\":[{\"line\":{\"colorbar\":{\"outlinewidth\":0,\"ticks\":\"\"}},\"type\":\"parcoords\"}],\"pie\":[{\"automargin\":true,\"type\":\"pie\"}],\"scatter\":[{\"marker\":{\"colorbar\":{\"outlinewidth\":0,\"ticks\":\"\"}},\"type\":\"scatter\"}],\"scatter3d\":[{\"line\":{\"colorbar\":{\"outlinewidth\":0,\"ticks\":\"\"}},\"marker\":{\"colorbar\":{\"outlinewidth\":0,\"ticks\":\"\"}},\"type\":\"scatter3d\"}],\"scattercarpet\":[{\"marker\":{\"colorbar\":{\"outlinewidth\":0,\"ticks\":\"\"}},\"type\":\"scattercarpet\"}],\"scattergeo\":[{\"marker\":{\"colorbar\":{\"outlinewidth\":0,\"ticks\":\"\"}},\"type\":\"scattergeo\"}],\"scattergl\":[{\"marker\":{\"colorbar\":{\"outlinewidth\":0,\"ticks\":\"\"}},\"type\":\"scattergl\"}],\"scattermapbox\":[{\"marker\":{\"colorbar\":{\"outlinewidth\":0,\"ticks\":\"\"}},\"type\":\"scattermapbox\"}],\"scatterpolar\":[{\"marker\":{\"colorbar\":{\"outlinewidth\":0,\"ticks\":\"\"}},\"type\":\"scatterpolar\"}],\"scatterpolargl\":[{\"marker\":{\"colorbar\":{\"outlinewidth\":0,\"ticks\":\"\"}},\"type\":\"scatterpolargl\"}],\"scatterternary\":[{\"marker\":{\"colorbar\":{\"outlinewidth\":0,\"ticks\":\"\"}},\"type\":\"scatterternary\"}],\"surface\":[{\"colorbar\":{\"outlinewidth\":0,\"ticks\":\"\"},\"colorscale\":[[0.0,\"#0d0887\"],[0.1111111111111111,\"#46039f\"],[0.2222222222222222,\"#7201a8\"],[0.3333333333333333,\"#9c179e\"],[0.4444444444444444,\"#bd3786\"],[0.5555555555555556,\"#d8576b\"],[0.6666666666666666,\"#ed7953\"],[0.7777777777777778,\"#fb9f3a\"],[0.8888888888888888,\"#fdca26\"],[1.0,\"#f0f921\"]],\"type\":\"surface\"}],\"table\":[{\"cells\":{\"fill\":{\"color\":\"#EBF0F8\"},\"line\":{\"color\":\"white\"}},\"header\":{\"fill\":{\"color\":\"#C8D4E3\"},\"line\":{\"color\":\"white\"}},\"type\":\"table\"}]},\"layout\":{\"annotationdefaults\":{\"arrowcolor\":\"#2a3f5f\",\"arrowhead\":0,\"arrowwidth\":1},\"autotypenumbers\":\"strict\",\"coloraxis\":{\"colorbar\":{\"outlinewidth\":0,\"ticks\":\"\"}},\"colorscale\":{\"diverging\":[[0,\"#8e0152\"],[0.1,\"#c51b7d\"],[0.2,\"#de77ae\"],[0.3,\"#f1b6da\"],[0.4,\"#fde0ef\"],[0.5,\"#f7f7f7\"],[0.6,\"#e6f5d0\"],[0.7,\"#b8e186\"],[0.8,\"#7fbc41\"],[0.9,\"#4d9221\"],[1,\"#276419\"]],\"sequential\":[[0.0,\"#0d0887\"],[0.1111111111111111,\"#46039f\"],[0.2222222222222222,\"#7201a8\"],[0.3333333333333333,\"#9c179e\"],[0.4444444444444444,\"#bd3786\"],[0.5555555555555556,\"#d8576b\"],[0.6666666666666666,\"#ed7953\"],[0.7777777777777778,\"#fb9f3a\"],[0.8888888888888888,\"#fdca26\"],[1.0,\"#f0f921\"]],\"sequentialminus\":[[0.0,\"#0d0887\"],[0.1111111111111111,\"#46039f\"],[0.2222222222222222,\"#7201a8\"],[0.3333333333333333,\"#9c179e\"],[0.4444444444444444,\"#bd3786\"],[0.5555555555555556,\"#d8576b\"],[0.6666666666666666,\"#ed7953\"],[0.7777777777777778,\"#fb9f3a\"],[0.8888888888888888,\"#fdca26\"],[1.0,\"#f0f921\"]]},\"colorway\":[\"#636efa\",\"#EF553B\",\"#00cc96\",\"#ab63fa\",\"#FFA15A\",\"#19d3f3\",\"#FF6692\",\"#B6E880\",\"#FF97FF\",\"#FECB52\"],\"font\":{\"color\":\"#2a3f5f\"},\"geo\":{\"bgcolor\":\"white\",\"lakecolor\":\"white\",\"landcolor\":\"#E5ECF6\",\"showlakes\":true,\"showland\":true,\"subunitcolor\":\"white\"},\"hoverlabel\":{\"align\":\"left\"},\"hovermode\":\"closest\",\"mapbox\":{\"style\":\"light\"},\"paper_bgcolor\":\"white\",\"plot_bgcolor\":\"#E5ECF6\",\"polar\":{\"angularaxis\":{\"gridcolor\":\"white\",\"linecolor\":\"white\",\"ticks\":\"\"},\"bgcolor\":\"#E5ECF6\",\"radialaxis\":{\"gridcolor\":\"white\",\"linecolor\":\"white\",\"ticks\":\"\"}},\"scene\":{\"xaxis\":{\"backgroundcolor\":\"#E5ECF6\",\"gridcolor\":\"white\",\"gridwidth\":2,\"linecolor\":\"white\",\"showbackground\":true,\"ticks\":\"\",\"zerolinecolor\":\"white\"},\"yaxis\":{\"backgroundcolor\":\"#E5ECF6\",\"gridcolor\":\"white\",\"gridwidth\":2,\"linecolor\":\"white\",\"showbackground\":true,\"ticks\":\"\",\"zerolinecolor\":\"white\"},\"zaxis\":{\"backgroundcolor\":\"#E5ECF6\",\"gridcolor\":\"white\",\"gridwidth\":2,\"linecolor\":\"white\",\"showbackground\":true,\"ticks\":\"\",\"zerolinecolor\":\"white\"}},\"shapedefaults\":{\"line\":{\"color\":\"#2a3f5f\"}},\"ternary\":{\"aaxis\":{\"gridcolor\":\"white\",\"linecolor\":\"white\",\"ticks\":\"\"},\"baxis\":{\"gridcolor\":\"white\",\"linecolor\":\"white\",\"ticks\":\"\"},\"bgcolor\":\"#E5ECF6\",\"caxis\":{\"gridcolor\":\"white\",\"linecolor\":\"white\",\"ticks\":\"\"}},\"title\":{\"x\":0.05},\"xaxis\":{\"automargin\":true,\"gridcolor\":\"white\",\"linecolor\":\"white\",\"ticks\":\"\",\"title\":{\"standoff\":15},\"zerolinecolor\":\"white\",\"zerolinewidth\":2},\"yaxis\":{\"automargin\":true,\"gridcolor\":\"white\",\"linecolor\":\"white\",\"ticks\":\"\",\"title\":{\"standoff\":15},\"zerolinecolor\":\"white\",\"zerolinewidth\":2}}},\"xaxis\":{\"anchor\":\"y\",\"domain\":[0.0,1.0],\"title\":{\"text\":\"importance\"}},\"yaxis\":{\"anchor\":\"x\",\"domain\":[0.0,1.0],\"title\":{\"text\":\"feature\"}},\"legend\":{\"tracegroupgap\":0},\"margin\":{\"t\":60},\"barmode\":\"relative\"},                        {\"responsive\": true}                    ).then(function(){\n",
              "                            \n",
              "var gd = document.getElementById('387b57dc-7c88-4eda-a1b8-e0dbce0990ef');\n",
              "var x = new MutationObserver(function (mutations, observer) {{\n",
              "        var display = window.getComputedStyle(gd).display;\n",
              "        if (!display || display === 'none') {{\n",
              "            console.log([gd, 'removed!']);\n",
              "            Plotly.purge(gd);\n",
              "            observer.disconnect();\n",
              "        }}\n",
              "}});\n",
              "\n",
              "// Listen for the removal of the full notebook cells\n",
              "var notebookContainer = gd.closest('#notebook-container');\n",
              "if (notebookContainer) {{\n",
              "    x.observe(notebookContainer, {childList: true});\n",
              "}}\n",
              "\n",
              "// Listen for the clearing of the current output cell\n",
              "var outputEl = gd.closest('.output');\n",
              "if (outputEl) {{\n",
              "    x.observe(outputEl, {childList: true});\n",
              "}}\n",
              "\n",
              "                        })                };                            </script>        </div>\n",
              "</body>\n",
              "</html>"
            ]
          },
          "metadata": {}
        }
      ]
    },
    {
      "cell_type": "markdown",
      "source": [
        "## Part 3B"
      ],
      "metadata": {
        "id": "Dqc2NjZ5amGy"
      }
    },
    {
      "cell_type": "markdown",
      "source": [
        "Again, we can see that there are some differences between the current calculation and both of the previous ones. For example, the **thall** feature seems to be more important in the current approach. The differences show us that calculating feature importances is generally a complex problem. One of the difficulties is that we can measure impact of a feature on the result in different ways. Even though intuitively we can understand the idea of feature importances, it's crucial to make sure that the chosen method of explaining corresponds with what are we interested in."
      ],
      "metadata": {
        "id": "PEwPUJRXdtHa"
      }
    },
    {
      "cell_type": "code",
      "source": [
        "plot_shap_var_imp(forest_model)"
      ],
      "metadata": {
        "colab": {
          "base_uri": "https://localhost:8080/",
          "height": 418
        },
        "id": "CfZQB55qbsPT",
        "outputId": "1ecb4d14-a1a6-4559-ba4c-4d7ff2470e2a"
      },
      "execution_count": 63,
      "outputs": [
        {
          "output_type": "display_data",
          "data": {
            "text/plain": [
              "<Figure size 576x468 with 1 Axes>"
            ],
            "image/png": "[encoded data removed]"
          },
          "metadata": {}
        }
      ]
    },
    {
      "cell_type": "markdown",
      "source": [
        "# Appendix"
      ],
      "metadata": {
        "id": "IEkOh562XJQH"
      }
    },
    {
      "cell_type": "code",
      "source": [
        "import numpy as np\n",
        "import pandas as pd\n",
        "import plotly.express as px\n",
        "import sklearn\n",
        "from sklearn.ensemble import RandomForestClassifier, GradientBoostingClassifier\n",
        "from sklearn.linear_model import RidgeClassifier\n",
        "from sklearn.model_selection import train_test_split\n",
        "from sklearn.inspection import permutation_importance\n",
        "import dalex\n",
        "import shap\n",
        "\n",
        "df = pd.read_csv(\"heart.csv\")\n",
        "X = df.iloc[:, :13]\n",
        "y = df.iloc[:, 13]\n",
        "X_train, X_test, y_train, y_test = train_test_split(X, y, test_size=0.33)\n",
        "\n",
        "grad_model = GradientBoostingClassifier().fit(X_train, y_train)\n",
        "forest_model = RandomForestClassifier().fit(X_train, y_train)\n",
        "forest_model_2 = RandomForestClassifier(n_estimators=20).fit(X_train, y_train)\n",
        "lr_model = RidgeClassifier().fit(X_train, y_train)\n",
        "\n",
        "grad_explainer = dalex.Explainer(grad_model, X_test, y_test)\n",
        "forest_explainer = dalex.Explainer(forest_model, X_test, y_test)\n",
        "forest_2_explainer = dalex.Explainer(forest_model_2, X_test, y_test)\n",
        "lr_explainer = dalex.Explainer(lr_model, X_test, y_test)\n",
        "\n",
        "explainers = [grad_explainer, forest_explainer, forest_2_explainer, lr_explainer]\n",
        "\n",
        "def plot_p_var_imp(expl):\n",
        "  parts = expl.model_parts(random_state=0)\n",
        "  fig = parts.plot(show=False).update_layout(autosize=False, width=600, height=450)\n",
        "  fig.show()\n",
        "\n",
        "col_names = X_train.columns.values\n",
        "\n",
        "def plot_var_imp(model):\n",
        "  imp = model.feature_importances_\n",
        "  plot_df = pd.DataFrame({'feature': col_names, 'importance': imp})\n",
        "  plot_df = plot_df.sort_values(by='importance')\n",
        "  fig = px.bar(plot_df, y='feature', x='importance')\n",
        "  fig.show()\n",
        "\n",
        "def plot_shap_var_imp(model):\n",
        "    shap_explainer = shap.explainers.Tree(model, X_test, model_output='probability')\n",
        "    shap_explainer = shap_explainer(X_test)[..., 1]\n",
        "    shap.plots.bar(shap_explainer)"
      ],
      "metadata": {
        "colab": {
          "base_uri": "https://localhost:8080/"
        },
        "id": "PZ3-lSNtNnsq",
        "outputId": "f1965f59-2fd5-496c-b239-37341bcee542"
      },
      "execution_count": 57,
      "outputs": [
        {
          "output_type": "stream",
          "name": "stdout",
          "text": [
            "Preparation of a new explainer is initiated\n",
            "\n",
            "  -> data              : 100 rows 13 cols\n",
            "  -> target variable   : Parameter 'y' was a pandas.Series. Converted to a numpy.ndarray.\n",
            "  -> target variable   : 100 values\n",
            "  -> model_class       : sklearn.ensemble._gb.GradientBoostingClassifier (default)\n",
            "  -> label             : Not specified, model's class short name will be used. (default)\n",
            "  -> predict function  : <function yhat_proba_default at 0x7f01e75e3a70> will be used (default)\n",
            "  -> predict function  : Accepts pandas.DataFrame and numpy.ndarray.\n",
            "  -> predicted values  : min = 0.00811, mean = 0.631, max = 0.995\n",
            "  -> model type        : classification will be used (default)\n",
            "  -> residual function : difference between y and yhat (default)\n",
            "  -> residuals         : min = -0.96, mean = -0.0213, max = 0.91\n",
            "  -> model_info        : package sklearn\n",
            "\n",
            "A new explainer has been created!\n",
            "Preparation of a new explainer is initiated\n",
            "\n",
            "  -> data              : 100 rows 13 cols\n",
            "  -> target variable   : Parameter 'y' was a pandas.Series. Converted to a numpy.ndarray.\n",
            "  -> target variable   : 100 values\n",
            "  -> model_class       : sklearn.ensemble._forest.RandomForestClassifier (default)\n",
            "  -> label             : Not specified, model's class short name will be used. (default)\n",
            "  -> predict function  : <function yhat_proba_default at 0x7f01e75e3a70> will be used (default)\n",
            "  -> predict function  : Accepts pandas.DataFrame and numpy.ndarray.\n",
            "  -> predicted values  : min = 0.0, mean = 0.58, max = 1.0\n",
            "  -> model type        : classification will be used (default)\n",
            "  -> residual function : difference between y and yhat (default)\n",
            "  -> residuals         : min = -0.87, mean = 0.0295, max = 0.87\n",
            "  -> model_info        : package sklearn\n",
            "\n",
            "A new explainer has been created!\n",
            "Preparation of a new explainer is initiated\n",
            "\n",
            "  -> data              : 100 rows 13 cols\n",
            "  -> target variable   : Parameter 'y' was a pandas.Series. Converted to a numpy.ndarray.\n",
            "  -> target variable   : 100 values\n",
            "  -> model_class       : sklearn.ensemble._forest.RandomForestClassifier (default)\n",
            "  -> label             : Not specified, model's class short name will be used. (default)\n",
            "  -> predict function  : <function yhat_proba_default at 0x7f01e75e3a70> will be used (default)\n",
            "  -> predict function  : Accepts pandas.DataFrame and numpy.ndarray.\n",
            "  -> predicted values  : min = 0.0, mean = 0.576, max = 1.0\n",
            "  -> model type        : classification will be used (default)\n",
            "  -> residual function : difference between y and yhat (default)\n",
            "  -> residuals         : min = -0.9, mean = 0.0345, max = 0.8\n",
            "  -> model_info        : package sklearn\n",
            "\n",
            "A new explainer has been created!\n",
            "Preparation of a new explainer is initiated\n",
            "\n",
            "  -> data              : 100 rows 13 cols\n",
            "  -> target variable   : Parameter 'y' was a pandas.Series. Converted to a numpy.ndarray.\n",
            "  -> target variable   : 100 values\n",
            "  -> model_class       : sklearn.linear_model._ridge.RidgeClassifier (default)\n",
            "  -> label             : Not specified, model's class short name will be used. (default)\n",
            "  -> predict function  : <function yhat_default at 0x7f01e75e3b00> will be used (default)\n",
            "  -> predict function  : Accepts pandas.DataFrame and numpy.ndarray.\n",
            "  -> predicted values  : min = 0.0, mean = 0.69, max = 1.0\n",
            "  -> model type        : classification will be used (default)\n",
            "  -> residual function : difference between y and yhat (default)\n",
            "  -> residuals         : min = -1.0, mean = -0.08, max = 1.0\n",
            "  -> model_info        : package sklearn\n",
            "\n",
            "A new explainer has been created!\n"
          ]
        },
        {
          "output_type": "stream",
          "name": "stderr",
          "text": [
            "X does not have valid feature names, but GradientBoostingClassifier was fitted with feature names\n",
            "X does not have valid feature names, but RandomForestClassifier was fitted with feature names\n",
            "X does not have valid feature names, but RandomForestClassifier was fitted with feature names\n",
            "X does not have valid feature names, but RidgeClassifier was fitted with feature names\n"
          ]
        }
      ]
    }
  ]
}